{
 "cells": [
  {
   "cell_type": "code",
   "execution_count": 93,
   "metadata": {},
   "outputs": [],
   "source": [
    "import cv2\n",
    "import matplotlib.pyplot as plt\n",
    "import numpy as np\n"
   ]
  },
  {
   "cell_type": "code",
   "execution_count": 79,
   "metadata": {},
   "outputs": [
    {
     "data": {
      "text/plain": [
       "(784,)"
      ]
     },
     "execution_count": 79,
     "metadata": {},
     "output_type": "execute_result"
    }
   ],
   "source": [
    "pic1 = cv2.imread('pic1.jpg', 0)\n",
    "pic1 = pic1[20:100, 20:70]\n",
    "pic1 = cv2.resize(pic1, (28, 28))\n",
    "pic1 = pic1.flatten()"
   ]
  },
  {
   "cell_type": "code",
   "execution_count": 101,
   "metadata": {},
   "outputs": [],
   "source": [
    "pic0 = cv2.imread('pic0.jpg', 0)\n",
    "# pic0 = pic0[2:50, 1:27]\n",
    "pic0 = cv2.resize(pic0, (28, 28))\n",
    "pic0 = pic0.flatten()"
   ]
  },
  {
   "cell_type": "code",
   "execution_count": 84,
   "metadata": {},
   "outputs": [],
   "source": [
    "pic2 = cv2.imread('pic2.jpg', 0)\n",
    "pic2 = pic2[35:85, 10:55]\n",
    "pic2 = cv2.resize(pic2, (28, 28))\n",
    "pic2 = pic2.flatten()"
   ]
  },
  {
   "cell_type": "code",
   "execution_count": 85,
   "metadata": {},
   "outputs": [],
   "source": [
    "pic3 = cv2.imread('pic3.jpg', 0)\n",
    "pic3 = pic3[35:102, 23:55]\n",
    "pic3 = cv2.resize(pic3, (28, 28))\n",
    "pic3 = pic3.flatten()"
   ]
  },
  {
   "cell_type": "code",
   "execution_count": 87,
   "metadata": {},
   "outputs": [],
   "source": [
    "pic4 = cv2.imread('pic4.jpg', 0)\n",
    "pic4 = pic4[130:210, 13:55]\n",
    "pic4 = cv2.resize(pic4, (28, 28))\n",
    "pic4 = pic4.flatten()"
   ]
  },
  {
   "cell_type": "code",
   "execution_count": 88,
   "metadata": {},
   "outputs": [],
   "source": [
    "pic5 = cv2.imread('pic5.jpg', 0)\n",
    "pic5 = pic5[20:98, 17:50]\n",
    "pic5 = cv2.resize(pic5, (28, 28))\n",
    "pic5 = pic5.flatten()"
   ]
  },
  {
   "cell_type": "code",
   "execution_count": 89,
   "metadata": {},
   "outputs": [],
   "source": [
    "pic6 = cv2.imread('pic6.jpg', 0)\n",
    "# pic6 = pic6[20:98, 17:50]\n",
    "pic6 = cv2.resize(pic6, (28, 28))\n",
    "pic6 = pic6.flatten()"
   ]
  },
  {
   "cell_type": "code",
   "execution_count": 90,
   "metadata": {},
   "outputs": [],
   "source": [
    "pic7 = cv2.imread('pic7.jpg', 0)\n",
    "pic7 = pic7[22:75, 15:52]\n",
    "pic7 = cv2.resize(pic7, (28, 28))\n",
    "pic7 = pic7.flatten()"
   ]
  },
  {
   "cell_type": "code",
   "execution_count": 91,
   "metadata": {},
   "outputs": [],
   "source": [
    "pic8 = cv2.imread('pic8.jpg', 0)\n",
    "pic8 = pic8[25:65, 28:52]\n",
    "pic8 = cv2.resize(pic8, (28, 28))\n",
    "pic8 = pic8.flatten()"
   ]
  },
  {
   "cell_type": "code",
   "execution_count": 138,
   "metadata": {},
   "outputs": [],
   "source": [
    "pic9 = cv2.imread('pic9.jpg', 0)\n",
    "pic9 = pic9[20:80, 13:48]\n",
    "pic9 = cv2.resize(pic9, (28, 28))\n",
    "pic9 = pic9.flatten()\n",
    "pic9\n",
    "saved = np.savetxt('numbers_array.csv', pic9, delimiter=\",\")"
   ]
  },
  {
   "cell_type": "code",
   "execution_count": 152,
   "metadata": {},
   "outputs": [
    {
     "data": {
      "text/plain": [
       "array([[158, 168, 163, ..., 162, 163, 163],\n",
       "       [159, 160, 158, ..., 154, 154, 155],\n",
       "       [154, 156, 155, ..., 149, 154, 154],\n",
       "       ...,\n",
       "       [150, 151, 151, ..., 145, 145, 143],\n",
       "       [148, 150, 150, ..., 148, 148, 148],\n",
       "       [159, 159, 159, ..., 159, 158, 158]], dtype=int32)"
      ]
     },
     "execution_count": 152,
     "metadata": {},
     "output_type": "execute_result"
    }
   ],
   "source": [
    "final_array = np.random.randint(0,1,size=(10, 784))\n",
    "final_array[0] = pic0\n",
    "final_array[1] = pic1\n",
    "final_array[2] = pic2\n",
    "final_array[3] = pic3\n",
    "final_array[4] = pic4\n",
    "final_array[5] = pic5\n",
    "final_array[6] = pic6\n",
    "final_array[7] = pic7\n",
    "final_array[8] = pic8\n",
    "final_array[9] = pic9\n",
    "\n",
    "saved = np.savetxt('numbers_array.csv', final_array, delimiter=', ', fmt='%d')\n",
    "final_array"
   ]
  }
 ],
 "metadata": {
  "kernelspec": {
   "display_name": "env",
   "language": "python",
   "name": "python3"
  },
  "language_info": {
   "codemirror_mode": {
    "name": "ipython",
    "version": 3
   },
   "file_extension": ".py",
   "mimetype": "text/x-python",
   "name": "python",
   "nbconvert_exporter": "python",
   "pygments_lexer": "ipython3",
   "version": "3.12.2"
  }
 },
 "nbformat": 4,
 "nbformat_minor": 2
}
